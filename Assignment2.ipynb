{
 "cells": [
  {
   "cell_type": "code",
   "execution_count": null,
   "id": "15ce7430-9a2c-4e83-bc24-fc6acb987254",
   "metadata": {},
   "outputs": [],
   "source": [
    "#Q1. How do you comment code in Python? What are the different types of comments?\n",
    "\n",
    "'''answer:\n",
    "1. single line comment\n",
    "2. Multiline Comment\n",
    "\n",
    "example:\n",
    "'''\n",
    "\n",
    "# this is the example of single line comment\n",
    "\n",
    "''' Hello,\n",
    "        How are you?\n",
    "    This is the example of multiline comment'''\n",
    "\n",
    "\n",
    "\n"
   ]
  },
  {
   "cell_type": "code",
   "execution_count": 1,
   "id": "511bd9f2-8ea9-4ba9-9292-d76f7015477b",
   "metadata": {},
   "outputs": [
    {
     "name": "stdout",
     "output_type": "stream",
     "text": [
      "x= 10\n"
     ]
    }
   ],
   "source": [
    "# Q2. What are variables in Python? How do you declare and assign values to variables?\n",
    "# answer:\n",
    "''' Variable: It the memory location name on which we store our data. for example'''\n",
    "x=10\n",
    "print(\"x=\",x)"
   ]
  },
  {
   "cell_type": "code",
   "execution_count": 2,
   "id": "7d0b4fb6-4f5d-4866-889d-4d496459195c",
   "metadata": {},
   "outputs": [
    {
     "name": "stdin",
     "output_type": "stream",
     "text": [
      "Enter any number 25\n"
     ]
    },
    {
     "name": "stdout",
     "output_type": "stream",
     "text": [
      "25\n"
     ]
    }
   ],
   "source": [
    "#Q3. How do you convert one data type to another in Python?\n",
    "''' answer: with the help of type casting method for example\n",
    "'''\n",
    "x=input(\"Enter any number\")\n",
    "y=int(x)\n",
    "print(x)"
   ]
  },
  {
   "cell_type": "code",
   "execution_count": 1,
   "id": "b3dd9f0c-f58a-434e-9584-8d10b9f020be",
   "metadata": {},
   "outputs": [
    {
     "ename": "SyntaxError",
     "evalue": "incomplete input (2870433489.py, line 2)",
     "output_type": "error",
     "traceback": [
      "\u001b[0;36m  Cell \u001b[0;32mIn[1], line 2\u001b[0;36m\u001b[0m\n\u001b[0;31m    ''' open any python IDLE like Thoney, Python IDLE, Jupiter Note book etc and write complete code of your problem and run this code.\u001b[0m\n\u001b[0m    ^\u001b[0m\n\u001b[0;31mSyntaxError\u001b[0m\u001b[0;31m:\u001b[0m incomplete input\n"
     ]
    }
   ],
   "source": [
    "#Q4. How do you write and execute a Python script from the command line?\n",
    "''' open any python IDLE like Thoney, Python IDLE, Jupiter Note book etc and write complete code of your problem and run this code.\n",
    "Example:\n",
    "a=10\n",
    "b=20\n",
    "z=a+b\n",
    "print(z)\n",
    "\n",
    "for running this above code press control + enter key(if we are using jupiter)"
   ]
  },
  {
   "cell_type": "code",
   "execution_count": 3,
   "id": "dbcc0073-7f81-4847-a2ab-374006aef947",
   "metadata": {},
   "outputs": [
    {
     "data": {
      "text/plain": [
       "[2, 3]"
      ]
     },
     "execution_count": 3,
     "metadata": {},
     "output_type": "execute_result"
    }
   ],
   "source": [
    "#Q5. Given a list my_list = [1, 2, 3, 4, 5], write the code to slice the list and obtain the sub-list [2, 3].\n",
    "my_list = [1, 2, 3, 4, 5]\n",
    "sub_list=my_list[1:3:1]\n",
    "sub_list"
   ]
  },
  {
   "cell_type": "code",
   "execution_count": 5,
   "id": "272b967c-4951-4e73-801d-2fb3548d35bf",
   "metadata": {},
   "outputs": [
    {
     "name": "stdout",
     "output_type": "stream",
     "text": [
      "<class 'complex'>\n"
     ]
    }
   ],
   "source": [
    "#6 What is a complex number in mathematics, and how is it represented in Python?\n",
    "''' ans: complex no is the combination of real and imaginary number like a+ib. In python language we can write is as follows\n",
    "example:'''\n",
    "x=3+4j\n",
    "print(type(x))"
   ]
  },
  {
   "cell_type": "code",
   "execution_count": 6,
   "id": "6bfb8822-4ecf-4d40-83d4-230de49e61bf",
   "metadata": {},
   "outputs": [
    {
     "data": {
      "text/plain": [
       "25"
      ]
     },
     "execution_count": 6,
     "metadata": {},
     "output_type": "execute_result"
    }
   ],
   "source": [
    "#Q7. What is the correct way to declare a variable named age and assign the value 25 to it?\n",
    "#ans:\n",
    "age=25\n",
    "age"
   ]
  },
  {
   "cell_type": "code",
   "execution_count": 7,
   "id": "9e169940-aeae-4cbd-a08b-75f13e9da5be",
   "metadata": {},
   "outputs": [
    {
     "name": "stdout",
     "output_type": "stream",
     "text": [
      "<class 'float'>\n"
     ]
    }
   ],
   "source": [
    "#Q8. Declare a variable named price and assign the value 9.99 to it. What data type does this variable belong to?\n",
    "# ans:\n",
    "price=9.99\n",
    "print(type(price))"
   ]
  },
  {
   "cell_type": "code",
   "execution_count": 8,
   "id": "eef80bc9-d605-4b55-846f-cb67423d8b2f",
   "metadata": {},
   "outputs": [
    {
     "name": "stdout",
     "output_type": "stream",
     "text": [
      "sanjay kumar\n"
     ]
    }
   ],
   "source": [
    "#Q9. Create a variable named name and assign your full name to it as a string. How would you print the value of this variable?\n",
    "# ans:\n",
    "name=\"sanjay kumar\"\n",
    "print(name)"
   ]
  },
  {
   "cell_type": "code",
   "execution_count": 9,
   "id": "603fa300-bd9c-4625-bef2-4a5b3c28ac1d",
   "metadata": {},
   "outputs": [
    {
     "data": {
      "text/plain": [
       "'World'"
      ]
     },
     "execution_count": 9,
     "metadata": {},
     "output_type": "execute_result"
    }
   ],
   "source": [
    "#Q10. Given the string \"Hello, World!\", extract the substring \"World\".\n",
    "#ans:\n",
    "s=\"Hello, World\"\n",
    "s[7:]"
   ]
  },
  {
   "cell_type": "code",
   "execution_count": 10,
   "id": "05ecef7d-245b-4f89-9919-02ff7ed6ca47",
   "metadata": {},
   "outputs": [
    {
     "data": {
      "text/plain": [
       "True"
      ]
     },
     "execution_count": 10,
     "metadata": {},
     "output_type": "execute_result"
    }
   ],
   "source": [
    "#Q11. Create a variable named \"is_student\" and assign it a boolean value indicating whether you are currently a student or not.\n",
    "#ans:\n",
    "is_student=True\n",
    "is_student"
   ]
  }
 ],
 "metadata": {
  "kernelspec": {
   "display_name": "Python 3 (ipykernel)",
   "language": "python",
   "name": "python3"
  },
  "language_info": {
   "codemirror_mode": {
    "name": "ipython",
    "version": 3
   },
   "file_extension": ".py",
   "mimetype": "text/x-python",
   "name": "python",
   "nbconvert_exporter": "python",
   "pygments_lexer": "ipython3",
   "version": "3.10.8"
  }
 },
 "nbformat": 4,
 "nbformat_minor": 5
}
